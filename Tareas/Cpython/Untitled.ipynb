{
 "cells": [
  {
   "cell_type": "markdown",
   "id": "04ad4fbc-020a-497b-9fae-7a9e0e21c940",
   "metadata": {},
   "source": [
    "# primer comentario\n",
    "print (\"hola mundo\")"
   ]
  },
  {
   "cell_type": "markdown",
   "id": "f52b2e76-0479-42f1-90d1-a548d86464ee",
   "metadata": {},
   "source": [
    "# VARIABLES"
   ]
  },
  {
   "cell_type": "code",
   "execution_count": 3,
   "id": "0ad48f68-0713-462e-bac0-9097966fe83f",
   "metadata": {},
   "outputs": [],
   "source": [
    "nombreVariables = 124 #int\n",
    "b = \"palabras\" #string\n",
    "PI = 3.14 #float\n",
    "C = 'a' #char\n",
    "D = 2.23456790987654 #float"
   ]
  },
  {
   "cell_type": "code",
   "execution_count": 5,
   "id": "070b7e58-70c9-48a3-83f2-457bf2ec0baa",
   "metadata": {},
   "outputs": [
    {
     "name": "stdout",
     "output_type": "stream",
     "text": [
      "<class 'int'>\n",
      "<class 'str'>\n",
      "<class 'str'>\n",
      "<class 'float'>\n"
     ]
    }
   ],
   "source": [
    "print(type(nombreVariables))\n",
    "print(type(b))\n",
    "print(type(C))\n",
    "print(type(D))"
   ]
  },
  {
   "cell_type": "code",
   "execution_count": null,
   "id": "e275b1db-b9d3-4ed5-aa4c-1b3c2e835786",
   "metadata": {},
   "outputs": [],
   "source": []
  },
  {
   "cell_type": "code",
   "execution_count": 6,
   "id": "3c0ca921-22e5-4e9b-aaee-286385b79527",
   "metadata": {},
   "outputs": [
    {
     "name": "stdin",
     "output_type": "stream",
     "text": [
      "ingrese un nombre tilin\n"
     ]
    },
    {
     "name": "stdout",
     "output_type": "stream",
     "text": [
      "hola, tilin\n"
     ]
    }
   ],
   "source": [
    "var=input(\"ingrese un nombre\")\n",
    "print(f\"hola, {var}\")"
   ]
  },
  {
   "cell_type": "code",
   "execution_count": 8,
   "id": "722b5150-2f47-49a0-ac18-c1b631d00d97",
   "metadata": {},
   "outputs": [
    {
     "name": "stdin",
     "output_type": "stream",
     "text": [
      "ingrese su edad 12\n"
     ]
    },
    {
     "name": "stdout",
     "output_type": "stream",
     "text": [
      "la edad es 12\n"
     ]
    }
   ],
   "source": [
    "edad=input(\"ingrese su edad\")\n",
    "print(\"la edad es\",edad) "
   ]
  },
  {
   "cell_type": "code",
   "execution_count": 12,
   "id": "df946399-5d04-4019-87b2-2dba195f0a84",
   "metadata": {},
   "outputs": [
    {
     "name": "stdin",
     "output_type": "stream",
     "text": [
      "ingrese el primer numero 4\n",
      "ingrese el segudno numero 3\n"
     ]
    },
    {
     "name": "stdout",
     "output_type": "stream",
     "text": [
      "EL valor de la multiplicacion es  12\n"
     ]
    }
   ],
   "source": [
    "a= int(input(\"ingrese el primer numero\"))\n",
    "b= int(input(\"ingrese el segudno numero\"))\n",
    "print (\"EL valor de la multiplicacion es \", (a*b))\n"
   ]
  },
  {
   "cell_type": "code",
   "execution_count": 14,
   "id": "132f51e9-8b8f-44a9-aa03-1052d6f6f812",
   "metadata": {},
   "outputs": [
    {
     "name": "stdout",
     "output_type": "stream",
     "text": [
      "el valor de la multiplicacion es 12\n",
      "la \"multiplicacion\" de 4x3=12\n"
     ]
    }
   ],
   "source": [
    "print(\"el valor de la multiplicacion es\", a*b)\n",
    "print(f\"la \\\"multiplicacion\\\" de {a}x{b}={a*b}\")"
   ]
  },
  {
   "cell_type": "code",
   "execution_count": 18,
   "id": "50e8039a-331f-4f49-bc47-b3b21c818252",
   "metadata": {},
   "outputs": [
    {
     "name": "stdout",
     "output_type": "stream",
     "text": [
      "True\n"
     ]
    }
   ],
   "source": [
    "print(5!=3)"
   ]
  },
  {
   "cell_type": "markdown",
   "id": "7bd299dc-6841-4253-acbd-dd4f8f42d434",
   "metadata": {},
   "source": [
    "# EJERCICIOS"
   ]
  },
  {
   "cell_type": "markdown",
   "id": "7ff0b536-8ea0-4eda-9192-f36b0ce5c277",
   "metadata": {},
   "source": [
    "# EJERCICIO 1 \n",
    "suma de dos numeros, Pide al usuario que ingrese dos numeros y muestra el resultado de su suma\n"
   ]
  },
  {
   "cell_type": "code",
   "execution_count": 24,
   "id": "beb5cbc4-973f-4715-9d25-48c14871eb62",
   "metadata": {},
   "outputs": [
    {
     "name": "stdin",
     "output_type": "stream",
     "text": [
      "ingrese el primero numero: 3\n",
      "ingrese el segudno numero: 4\n"
     ]
    },
    {
     "name": "stdout",
     "output_type": "stream",
     "text": [
      "el valor de la suma de 3 y 4 es  7\n"
     ]
    }
   ],
   "source": [
    "a = int(input(\"ingrese el primero numero:\"))\n",
    "b = int(input(\"ingrese el segudno numero:\"))\n",
    "print (\"el valor de la suma de\", (a),\"y\",(b), \"es \",(a+b))"
   ]
  },
  {
   "cell_type": "markdown",
   "id": "43ece55b-0cfc-4f1a-8953-a88ed13af06d",
   "metadata": {},
   "source": [
    "# Ejercicio 2\n",
    "Solicita al usuario una temperatura en grados Celsius y conviertela es Fahrenheit"
   ]
  },
  {
   "cell_type": "code",
   "execution_count": 26,
   "id": "5cc64210-3f2b-4d00-a599-c2849e0c56ca",
   "metadata": {},
   "outputs": [
    {
     "name": "stdin",
     "output_type": "stream",
     "text": [
      "ingrese la temperatura en Celsius: 10\n"
     ]
    },
    {
     "name": "stdout",
     "output_type": "stream",
     "text": [
      "La temperatura 10 en Fahrenheit es 50.0\n"
     ]
    }
   ],
   "source": [
    "g= int(input(\"ingrese la temperatura en Celsius:\"))\n",
    "c=(g* 9/5) + 32 \n",
    "print(\"La temperatura\",(g),\"en Fahrenheit es\",(c))\n"
   ]
  },
  {
   "cell_type": "code",
   "execution_count": null,
   "id": "1402960f-43d8-4769-9a0b-8c4253fb0927",
   "metadata": {},
   "outputs": [],
   "source": []
  }
 ],
 "metadata": {
  "kernelspec": {
   "display_name": "Python 3 (ipykernel)",
   "language": "python",
   "name": "python3"
  },
  "language_info": {
   "codemirror_mode": {
    "name": "ipython",
    "version": 3
   },
   "file_extension": ".py",
   "mimetype": "text/x-python",
   "name": "python",
   "nbconvert_exporter": "python",
   "pygments_lexer": "ipython3",
   "version": "3.11.11"
  }
 },
 "nbformat": 4,
 "nbformat_minor": 5
}
