{
 "cells": [
  {
   "cell_type": "markdown",
   "id": "ea0a1d8d-8512-4981-af94-5bf7beee4be0",
   "metadata": {},
   "source": [
    "# BUCLES\n",
    "FOR\n"
   ]
  },
  {
   "cell_type": "code",
   "execution_count": 1,
   "id": "be5af982-155f-4ac6-a823-603b6ea42a62",
   "metadata": {},
   "outputs": [
    {
     "name": "stdout",
     "output_type": "stream",
     "text": [
      "0\n",
      "1\n",
      "2\n",
      "3\n",
      "4\n",
      "5\n",
      "6\n",
      "7\n",
      "8\n"
     ]
    }
   ],
   "source": [
    "for i in range(9):\n",
    "    print(i)"
   ]
  },
  {
   "cell_type": "code",
   "execution_count": 2,
   "id": "c7d24dda-7cae-4ab0-93d4-def0e9ba262c",
   "metadata": {},
   "outputs": [
    {
     "name": "stdout",
     "output_type": "stream",
     "text": [
      "1\n",
      "2\n",
      "3\n",
      "4\n",
      "5\n",
      "6\n",
      "7\n",
      "8\n",
      "9\n"
     ]
    }
   ],
   "source": [
    "for i in range(1,10):\n",
    "    print(i)"
   ]
  },
  {
   "cell_type": "code",
   "execution_count": 3,
   "id": "7edc97bf-29a5-404a-b3cf-e9bdb8f45906",
   "metadata": {},
   "outputs": [
    {
     "name": "stdout",
     "output_type": "stream",
     "text": [
      "1\n",
      "3\n",
      "5\n",
      "7\n",
      "9\n",
      "11\n",
      "13\n",
      "15\n",
      "17\n",
      "19\n"
     ]
    }
   ],
   "source": [
    "for i in range(1,20,2):\n",
    "    print(i)"
   ]
  },
  {
   "cell_type": "markdown",
   "id": "226dccb8-3cb2-4ae4-8336-c01f496752dd",
   "metadata": {},
   "source": [
    "### EJERICICIO 1\n",
    "Solicita un mensaje y un numero n y repitelo n veces en la pantalla"
   ]
  },
  {
   "cell_type": "code",
   "execution_count": 8,
   "id": "f134a9d2-7cd4-4f95-9ef7-62ed8fb5d863",
   "metadata": {},
   "outputs": [
    {
     "name": "stdin",
     "output_type": "stream",
     "text": [
      "ingrese un mensaje: hola\n",
      "ingrese las veces que se repetira el mensaje 3\n"
     ]
    },
    {
     "name": "stdout",
     "output_type": "stream",
     "text": [
      "hola\n",
      "hola\n",
      "hola\n"
     ]
    }
   ],
   "source": [
    "msj= input(\"ingrese un mensaje:\")\n",
    "n= int(input(\"ingrese las veces que se repetira el mensaje\"))\n",
    "for i in range (n):\n",
    "    print(msj)"
   ]
  },
  {
   "cell_type": "markdown",
   "id": "6f180158-2820-4079-b5d6-ce1541828374",
   "metadata": {},
   "source": [
    "### EJERCICIO 2\n",
    "Utilizar un bucle for para mostrar los numeros del 1 al 10 en orden"
   ]
  },
  {
   "cell_type": "code",
   "execution_count": 9,
   "id": "1d735891-f998-4202-911a-6665212502e0",
   "metadata": {},
   "outputs": [
    {
     "name": "stdout",
     "output_type": "stream",
     "text": [
      "1\n",
      "2\n",
      "3\n",
      "4\n",
      "5\n",
      "6\n",
      "7\n",
      "8\n",
      "9\n",
      "10\n"
     ]
    }
   ],
   "source": [
    "for i in range(1,11):\n",
    "    print(i)"
   ]
  },
  {
   "cell_type": "code",
   "execution_count": 12,
   "id": "d1ddb999-bdd2-4b76-b0b1-a01282c9d52e",
   "metadata": {},
   "outputs": [
    {
     "name": "stdout",
     "output_type": "stream",
     "text": [
      "10\n",
      "9\n",
      "8\n",
      "7\n",
      "6\n",
      "5\n",
      "4\n",
      "3\n",
      "2\n",
      "1\n"
     ]
    }
   ],
   "source": [
    "for i in range(10,0,-1):\n",
    "    print(i)"
   ]
  },
  {
   "cell_type": "markdown",
   "id": "f9a954d6-3c78-40bb-8a17-391a0528c937",
   "metadata": {},
   "source": [
    "# EJERCICIO 3\n",
    "Muestra numeros del 10 al 1, uno por linea."
   ]
  },
  {
   "cell_type": "code",
   "execution_count": 13,
   "id": "48a067b9-9507-40b6-bc52-a34c7ced3cc2",
   "metadata": {},
   "outputs": [
    {
     "name": "stdout",
     "output_type": "stream",
     "text": [
      "10\n",
      "9\n",
      "8\n",
      "7\n",
      "6\n",
      "5\n",
      "4\n",
      "3\n",
      "2\n",
      "1\n"
     ]
    }
   ],
   "source": [
    "for i in range(10,0,-1):\n",
    "    print(i)"
   ]
  },
  {
   "cell_type": "markdown",
   "id": "4b6510ef-13a4-43f0-96ba-a3867da422d0",
   "metadata": {},
   "source": [
    "# EJERCICIO 4\n",
    "Pide un numero n y calcula la suma de los numeros del 1 al n"
   ]
  },
  {
   "cell_type": "code",
   "execution_count": 25,
   "id": "eb33ab57-885b-4370-9f30-c1faa93d467f",
   "metadata": {},
   "outputs": [
    {
     "name": "stdin",
     "output_type": "stream",
     "text": [
      "escribe un numero 7\n"
     ]
    },
    {
     "name": "stdout",
     "output_type": "stream",
     "text": [
      "28\n",
      "28.0\n"
     ]
    }
   ],
   "source": [
    "suma=0\n",
    "n = int(input(\"escribe un numero\"))\n",
    "for i in range (n+1):\n",
    "    suma+=i\n",
    "print(suma)\n",
    "\n",
    "cal= n*(n+1)/2\n",
    "print(cal)"
   ]
  },
  {
   "cell_type": "markdown",
   "id": "34fa408b-e691-4e55-807b-7db5f7a72c8f",
   "metadata": {},
   "source": [
    "# EJERCICIO 5\n",
    "Solicita un numero de muestra su tabla de multiplicar del 1 al 10"
   ]
  },
  {
   "cell_type": "code",
   "execution_count": 26,
   "id": "e75b3a27-3de8-4d6c-89b0-6876db497495",
   "metadata": {},
   "outputs": [
    {
     "name": "stdin",
     "output_type": "stream",
     "text": [
      "ingrese un numero para ver su tabla de multiplicar 3\n"
     ]
    },
    {
     "name": "stdout",
     "output_type": "stream",
     "text": [
      "3 x 1 = 3\n",
      "3 x 2 = 6\n",
      "3 x 3 = 9\n",
      "3 x 4 = 12\n",
      "3 x 5 = 15\n",
      "3 x 6 = 18\n",
      "3 x 7 = 21\n",
      "3 x 8 = 24\n",
      "3 x 9 = 27\n",
      "3 x 10 = 30\n"
     ]
    }
   ],
   "source": [
    "n = int(input(\"ingrese un numero para ver su tabla de multiplicar\"))\n",
    "for i in range (1,11,1):\n",
    "    print( n ,\"x\", i , \"=\",n*i)\n"
   ]
  },
  {
   "cell_type": "markdown",
   "id": "fe8f37d8-c8b0-4272-990e-32b5eb56856b",
   "metadata": {},
   "source": [
    "# EJERCICIO 6 \n",
    "Muestra todos los numeros pares del 1 al 100"
   ]
  },
  {
   "cell_type": "code",
   "execution_count": 27,
   "id": "b750aac1-a079-4153-90ad-81d2293eb49a",
   "metadata": {},
   "outputs": [
    {
     "name": "stdout",
     "output_type": "stream",
     "text": [
      "2\n",
      "4\n",
      "6\n",
      "8\n",
      "10\n",
      "12\n",
      "14\n",
      "16\n",
      "18\n",
      "20\n",
      "22\n",
      "24\n",
      "26\n",
      "28\n",
      "30\n",
      "32\n",
      "34\n",
      "36\n",
      "38\n",
      "40\n",
      "42\n",
      "44\n",
      "46\n",
      "48\n",
      "50\n",
      "52\n",
      "54\n",
      "56\n",
      "58\n",
      "60\n",
      "62\n",
      "64\n",
      "66\n",
      "68\n",
      "70\n",
      "72\n",
      "74\n",
      "76\n",
      "78\n",
      "80\n",
      "82\n",
      "84\n",
      "86\n",
      "88\n",
      "90\n",
      "92\n",
      "94\n",
      "96\n",
      "98\n",
      "100\n"
     ]
    }
   ],
   "source": [
    "for i in range(1,101):\n",
    "    if (i%2==0):\n",
    "        print(i)"
   ]
  },
  {
   "cell_type": "markdown",
   "id": "42036941-fc84-4860-b18f-89e7b7c39fee",
   "metadata": {},
   "source": [
    "# EJERCICIO 7\n",
    "Solicita un usuario que ingrese la cantidad de nombres.Luego imprime cada uno en una linea con numeracion."
   ]
  },
  {
   "cell_type": "code",
   "execution_count": 48,
   "id": "d72bb5f9-9bec-432e-883a-540e56dbf1b6",
   "metadata": {},
   "outputs": [
    {
     "name": "stdin",
     "output_type": "stream",
     "text": [
      "Ingrese la cantidad de nombres:  2\n"
     ]
    },
    {
     "name": "stdout",
     "output_type": "stream",
     "text": [
      "\n",
      "Lista de nombres:\n"
     ]
    },
    {
     "name": "stdin",
     "output_type": "stream",
     "text": [
      "Ingrese el nombre 1:  juan\n"
     ]
    },
    {
     "name": "stdout",
     "output_type": "stream",
     "text": [
      "1. juan\n"
     ]
    },
    {
     "name": "stdin",
     "output_type": "stream",
     "text": [
      "Ingrese el nombre 2:  alex\n"
     ]
    },
    {
     "name": "stdout",
     "output_type": "stream",
     "text": [
      "2. alex\n"
     ]
    }
   ],
   "source": [
    "n= int(input(\"Ingrese la cantidad de nombres: \"))\n",
    "\n",
    "print(\"\\nLista de nombres:\")\n",
    "for i in range(n):\n",
    "    nombres = input(f\"Ingrese el nombre {i + 1}: \")\n",
    "    print(f\"{i + 1}. {nombres}\")"
   ]
  },
  {
   "cell_type": "markdown",
   "id": "97218d44-9be6-4657-acf9-d6afb2fec874",
   "metadata": {},
   "source": [
    "### EJERCICIO 8 \n",
    "Pide un numero limite y suma todos los multiplos de 3 entre 1 y ese numero"
   ]
  },
  {
   "cell_type": "code",
   "execution_count": 50,
   "id": "c15fcb25-727e-4db7-942b-71e00d71c380",
   "metadata": {},
   "outputs": [
    {
     "name": "stdin",
     "output_type": "stream",
     "text": [
      "Ingrese un numero 10\n"
     ]
    },
    {
     "name": "stdout",
     "output_type": "stream",
     "text": [
      "18\n"
     ]
    }
   ],
   "source": [
    "n= int(input(\"Ingrese un numero\"))\n",
    "suma=0\n",
    "for i in range (n):\n",
    "    if (i%3==0):\n",
    "        suma+=i\n",
    "print(suma)"
   ]
  },
  {
   "cell_type": "markdown",
   "id": "060cd646-eede-4bb5-8e3e-30fc9dee2411",
   "metadata": {},
   "source": [
    "### EJERCICIO 9\n",
    "Pide una palabra y cuenta cuantas vocales contiene."
   ]
  },
  {
   "cell_type": "code",
   "execution_count": 51,
   "id": "655183bf-4216-4e68-953e-e8384e618a9a",
   "metadata": {},
   "outputs": [
    {
     "name": "stdin",
     "output_type": "stream",
     "text": [
      "ingrese una palabra hola\n"
     ]
    },
    {
     "name": "stdout",
     "output_type": "stream",
     "text": [
      "La palabra hola tiene en total 2 vocales\n"
     ]
    }
   ],
   "source": [
    "msj = input(\"ingrese una palabra\")\n",
    "cont= 0\n",
    "for letra in msj:\n",
    "    if letra.lower() in \"aeiou\":\n",
    "        cont+=1\n",
    "print(\"La palabra\", msj , \"tiene en total\", cont , \"vocales\")"
   ]
  },
  {
   "cell_type": "markdown",
   "id": "0125c74c-5b11-4006-9b41-64886c3b759c",
   "metadata": {},
   "source": [
    "### EJERCICIO 10\n",
    "Pide un numero n y calcula su factorial. Ejemplo: 5!= 5x4x3x2x1=120"
   ]
  },
  {
   "cell_type": "code",
   "execution_count": 53,
   "id": "3210fbdc-42ce-4126-a5f4-848458bdb3eb",
   "metadata": {},
   "outputs": [
    {
     "name": "stdin",
     "output_type": "stream",
     "text": [
      "Ingrese un número:  3\n"
     ]
    },
    {
     "name": "stdout",
     "output_type": "stream",
     "text": [
      "3 x 2 x 1 = 6\n"
     ]
    }
   ],
   "source": [
    "n = int(input(\"Ingrese un numero\"))\n",
    "\n",
    "factorial = 1\n",
    "\n",
    "for i in range(n, 0, -1):\n",
    "    factorial *= i\n",
    "    if i > 1:\n",
    "        print(f\"{i} x \", end=\"\")\n",
    "    else:\n",
    "        print(f\"{i} = {factorial}\")\n"
   ]
  },
  {
   "cell_type": "code",
   "execution_count": null,
   "id": "bf9b4b60-e76e-405b-951f-0e5b1b13fabc",
   "metadata": {},
   "outputs": [],
   "source": []
  }
 ],
 "metadata": {
  "kernelspec": {
   "display_name": "Python 3 (ipykernel)",
   "language": "python",
   "name": "python3"
  },
  "language_info": {
   "codemirror_mode": {
    "name": "ipython",
    "version": 3
   },
   "file_extension": ".py",
   "mimetype": "text/x-python",
   "name": "python",
   "nbconvert_exporter": "python",
   "pygments_lexer": "ipython3",
   "version": "3.11.11"
  }
 },
 "nbformat": 4,
 "nbformat_minor": 5
}
